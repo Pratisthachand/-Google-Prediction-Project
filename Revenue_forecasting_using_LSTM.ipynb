{
  "nbformat": 4,
  "nbformat_minor": 0,
  "metadata": {
    "colab": {
      "provenance": []
    },
    "kernelspec": {
      "name": "python3",
      "display_name": "Python 3"
    },
    "language_info": {
      "name": "python"
    }
  },
  "cells": [
    {
      "cell_type": "code",
      "execution_count": null,
      "metadata": {
        "id": "xsBhE5kstkn8"
      },
      "outputs": [],
      "source": [
        "import numpy as np\n",
        "from tensorflow.keras.models import Sequential\n",
        "from tensorflow.keras.layers import LSTM\n",
        "from tensorflow.keras.layers import Dense, Dropout\n",
        "import pandas as pd\n",
        "from matplotlib import pyplot as plt\n",
        "from sklearn.preprocessing import StandardScaler\n",
        "import seaborn as sns\n",
        "#from datetime import datetime"
      ]
    },
    {
      "cell_type": "code",
      "source": [
        "#Read the csv file\n",
        "df = pd.read_csv('/content/GoogleRevenue.csv')\n",
        "print(df.head())"
      ],
      "metadata": {
        "colab": {
          "base_uri": "https://localhost:8080/"
        },
        "id": "m0FjMifStyhJ",
        "outputId": "ef51ab7c-1eb1-4f81-daf5-a970c22c0f8d"
      },
      "execution_count": null,
      "outputs": [
        {
          "output_type": "stream",
          "name": "stdout",
          "text": [
            "         Date  Revenue (in millions of $)\n",
            "0   3/30/2008                        5186\n",
            "1   6/30/2008                        5637\n",
            "2   9/30/2008                        5541\n",
            "3  12/30/2008                        5701\n",
            "4   3/30/2009                        5509\n"
          ]
        }
      ]
    },
    {
      "cell_type": "code",
      "source": [
        "#Separate dates for future plotting\n",
        "train_dates = pd.to_datetime(df['Date'])\n",
        "print(train_dates.tail(15)) #Check last few dates. "
      ],
      "metadata": {
        "colab": {
          "base_uri": "https://localhost:8080/"
        },
        "id": "9pa6cwHet9jZ",
        "outputId": "235bceb7-7d90-48de-981a-53fe7bbf45b0"
      },
      "execution_count": null,
      "outputs": [
        {
          "output_type": "stream",
          "name": "stdout",
          "text": [
            "43   2018-12-30\n",
            "44   2019-03-30\n",
            "45   2019-06-30\n",
            "46   2019-09-30\n",
            "47   2019-12-30\n",
            "48   2020-03-30\n",
            "49   2020-06-30\n",
            "50   2020-09-30\n",
            "51   2020-12-30\n",
            "52   2021-03-30\n",
            "53   2021-06-30\n",
            "54   2021-09-30\n",
            "55   2021-12-30\n",
            "56   2022-03-30\n",
            "57   2022-06-30\n",
            "Name: Date, dtype: datetime64[ns]\n"
          ]
        }
      ]
    },
    {
      "cell_type": "code",
      "source": [
        "#Variable for training\n",
        "col = list(df)[1]\n",
        "#Date and volume columns are not used in training. \n",
        "print(col) "
      ],
      "metadata": {
        "colab": {
          "base_uri": "https://localhost:8080/"
        },
        "id": "uDlXxbuUuGS7",
        "outputId": "4c4857c7-40d9-4617-e7c8-abb8e2a1d7f1"
      },
      "execution_count": null,
      "outputs": [
        {
          "output_type": "stream",
          "name": "stdout",
          "text": [
            "Revenue (in millions of $)\n"
          ]
        }
      ]
    },
    {
      "cell_type": "code",
      "source": [
        "#New dataframe with only training data - 1 column\n",
        "df_for_training = df[col].astype(float)\n",
        "df_for_training\n",
        "\n",
        "df_for_training.shape"
      ],
      "metadata": {
        "colab": {
          "base_uri": "https://localhost:8080/"
        },
        "id": "A9W5iv2OuOqQ",
        "outputId": "96b853b2-21d2-4c6d-b56c-f42651fee8ab"
      },
      "execution_count": null,
      "outputs": [
        {
          "output_type": "execute_result",
          "data": {
            "text/plain": [
              "(58,)"
            ]
          },
          "metadata": {},
          "execution_count": 6
        }
      ]
    },
    {
      "cell_type": "code",
      "source": [
        "#Feature Scaling or Standardization: It is a step of Data Pre Processing that is applied to independent variables or features of data. It basically helps to normalize the data within a particular range\n",
        "#StandardScaler is useful for the features that follow a Normal distribution.MinMaxScaler may be used when the upper and lower boundaries are well known from domain knowledge. StandardSCalar changes the shape of data while keeping data into range of 0 and 1. It can eliminate the outliers(which sometimes provides some useful info). NOTE: Do not remove all outliers until you do not have domain knowledge sbout them.If you know you have a fixed min and max in your dataset (e.g. images), you can use min-max scaling to fix your input and/or output data to be between 0 and 1. MinMaxScalar() do not changes the shape of data, while it also keeps the data into range of 0 and 1. It will do it for minimum number of features required.For other applications where you do not have fixed bounds, standard scaling is useful. This gives all of your features zero-mean and unit variance.\n",
        "\n",
        "from sklearn.preprocessing import MinMaxScaler\n",
        "scaler=MinMaxScaler(feature_range=(0,1))\n",
        "df_for_training_scaled=scaler.fit_transform(np.array(df_for_training).reshape(-1,1))\n",
        "print(df_for_training_scaled) # we can see that now the closing prices are from 0 to 1."
      ],
      "metadata": {
        "colab": {
          "base_uri": "https://localhost:8080/"
        },
        "id": "HKw9ZhFvuQ_f",
        "outputId": "f2d14deb-f924-408f-cb14-b5be3276e090"
      },
      "execution_count": null,
      "outputs": [
        {
          "output_type": "stream",
          "name": "stdout",
          "text": [
            "[[0.        ]\n",
            " [0.00646549]\n",
            " [0.00508924]\n",
            " [0.00738298]\n",
            " [0.00463049]\n",
            " [0.00483119]\n",
            " [0.01088094]\n",
            " [0.0213318 ]\n",
            " [0.02277973]\n",
            " [0.02342484]\n",
            " [0.03010537]\n",
            " [0.04664899]\n",
            " [0.04858433]\n",
            " [0.05504982]\n",
            " [0.06499892]\n",
            " [0.07738513]\n",
            " [0.07825962]\n",
            " [0.08283277]\n",
            " [0.09088954]\n",
            " [0.11065873]\n",
            " [0.11131819]\n",
            " [0.11355458]\n",
            " [0.1228299 ]\n",
            " [0.1508279 ]\n",
            " [0.1467135 ]\n",
            " [0.1543832 ]\n",
            " [0.16252598]\n",
            " [0.18365709]\n",
            " [0.17191599]\n",
            " [0.17872554]\n",
            " [0.19135546]\n",
            " [0.22927389]\n",
            " [0.21369077]\n",
            " [0.23108021]\n",
            " [0.24468497]\n",
            " [0.29554871]\n",
            " [0.27857501]\n",
            " [0.29713999]\n",
            " [0.31946097]\n",
            " [0.38715504]\n",
            " [0.37000932]\n",
            " [0.39174253]\n",
            " [0.40725396]\n",
            " [0.48472511]\n",
            " [0.44220486]\n",
            " [0.48008028]\n",
            " [0.50231525]\n",
            " [0.58240986]\n",
            " [0.51306716]\n",
            " [0.47038922]\n",
            " [0.58534872]\n",
            " [0.73855638]\n",
            " [0.71735359]\n",
            " [0.8101068 ]\n",
            " [0.8556806 ]\n",
            " [1.        ]\n",
            " [0.89035911]\n",
            " [0.91650778]]\n"
          ]
        }
      ]
    },
    {
      "cell_type": "code",
      "source": [
        "#As required for LSTM networks, we require to reshape an input data into n_samples x timesteps x n_features. \n",
        "#In this example, the n_features is 5. We will make timesteps = 365 (past days data used for training). \n",
        "\n",
        "#Empty lists to be populated using formatted training data\n",
        "trainX = []\n",
        "trainY = []\n",
        "\n",
        "n_future = 1   # Number of quarters we want to look into the future based on the past quarters.\n",
        "n_past = 20  # Number of past quarters we want to use to predict the future."
      ],
      "metadata": {
        "id": "p0ceitaVuYGH"
      },
      "execution_count": null,
      "outputs": []
    },
    {
      "cell_type": "code",
      "source": [
        "#Reformat input data into a shape: (n_samples x timesteps x n_features)\n",
        "#In my example, my df_for_training_scaled has a shape (12823, 1)\n",
        "#12823 refers to the number of data points and 5 refers to the columns (multi-variables).\n",
        "for i in range(n_past, len(df_for_training_scaled) - n_future +1):\n",
        "    trainX.append(df_for_training_scaled[i - n_past:i, 0:df_for_training.shape[0]])\n",
        "    trainY.append(df_for_training_scaled[i + n_future - 1:i + n_future, 0])\n",
        "\n",
        "trainX, trainY = np.array(trainX), np.array(trainY)\n",
        "\n",
        "print('trainX shape == {}.'.format(trainX.shape))\n",
        "print('trainY shape == {}.'.format(trainY.shape)) \n",
        "\n",
        "#In trainX: 3823 refers to the number of data points [total data points aka 4553 - n_future & n_past] and 5 refers to the columns (multi-variables)."
      ],
      "metadata": {
        "colab": {
          "base_uri": "https://localhost:8080/"
        },
        "id": "BMU7t3kVucu3",
        "outputId": "15d326ac-90c3-4eb4-f688-274295820530"
      },
      "execution_count": null,
      "outputs": [
        {
          "output_type": "stream",
          "name": "stdout",
          "text": [
            "trainX shape == (38, 20, 1).\n",
            "trainY shape == (38, 1).\n"
          ]
        }
      ]
    },
    {
      "cell_type": "code",
      "source": [
        "# define the Autoencoder model\n",
        "\n",
        "model = Sequential()\n",
        "model.add(LSTM(64, activation='relu', input_shape=(trainX.shape[1], trainX.shape[2]), return_sequences=True))\n",
        "model.add(LSTM(32, activation='relu', return_sequences=False))\n",
        "model.add(Dropout(0.2))\n",
        "model.add(Dense(trainY.shape[1]))\n",
        "\n",
        "model.compile(optimizer='adam', loss='mse')\n",
        "model.summary()"
      ],
      "metadata": {
        "colab": {
          "base_uri": "https://localhost:8080/"
        },
        "id": "swPyOtt5ueu_",
        "outputId": "d083d90b-1e78-4b7a-dfca-8664863ce812"
      },
      "execution_count": null,
      "outputs": [
        {
          "output_type": "stream",
          "name": "stdout",
          "text": [
            "Model: \"sequential\"\n",
            "_________________________________________________________________\n",
            " Layer (type)                Output Shape              Param #   \n",
            "=================================================================\n",
            " lstm (LSTM)                 (None, 20, 64)            16896     \n",
            "                                                                 \n",
            " lstm_1 (LSTM)               (None, 32)                12416     \n",
            "                                                                 \n",
            " dropout (Dropout)           (None, 32)                0         \n",
            "                                                                 \n",
            " dense (Dense)               (None, 1)                 33        \n",
            "                                                                 \n",
            "=================================================================\n",
            "Total params: 29,345\n",
            "Trainable params: 29,345\n",
            "Non-trainable params: 0\n",
            "_________________________________________________________________\n"
          ]
        }
      ]
    },
    {
      "cell_type": "code",
      "source": [
        "# fit the model\n",
        "history = model.fit(trainX, trainY, epochs=10, batch_size=16, validation_split=0.1, verbose=1)\n",
        "\n",
        "plt.plot(history.history['loss'], label='Training loss')\n",
        "plt.plot(history.history['val_loss'], label='Validation loss')\n",
        "plt.legend()\n"
      ],
      "metadata": {
        "colab": {
          "base_uri": "https://localhost:8080/",
          "height": 665
        },
        "id": "KyRNbeBeujur",
        "outputId": "d102170a-c152-4fcd-8d3b-66dd5cf103e7"
      },
      "execution_count": null,
      "outputs": [
        {
          "output_type": "stream",
          "name": "stdout",
          "text": [
            "Epoch 1/10\n",
            "3/3 [==============================] - 6s 411ms/step - loss: 0.1586 - val_loss: 0.8106\n",
            "Epoch 2/10\n",
            "3/3 [==============================] - 0s 58ms/step - loss: 0.1407 - val_loss: 0.7222\n",
            "Epoch 3/10\n",
            "3/3 [==============================] - 0s 70ms/step - loss: 0.1228 - val_loss: 0.6589\n",
            "Epoch 4/10\n",
            "3/3 [==============================] - 0s 58ms/step - loss: 0.1072 - val_loss: 0.6026\n",
            "Epoch 5/10\n",
            "3/3 [==============================] - 0s 69ms/step - loss: 0.1046 - val_loss: 0.5424\n",
            "Epoch 6/10\n",
            "3/3 [==============================] - 0s 37ms/step - loss: 0.0791 - val_loss: 0.4582\n",
            "Epoch 7/10\n",
            "3/3 [==============================] - 0s 76ms/step - loss: 0.0706 - val_loss: 0.3449\n",
            "Epoch 8/10\n",
            "3/3 [==============================] - 0s 52ms/step - loss: 0.0359 - val_loss: 0.1999\n",
            "Epoch 9/10\n",
            "3/3 [==============================] - 0s 47ms/step - loss: 0.0206 - val_loss: 0.0416\n",
            "Epoch 10/10\n",
            "3/3 [==============================] - 0s 39ms/step - loss: 0.0199 - val_loss: 0.0102\n"
          ]
        },
        {
          "output_type": "execute_result",
          "data": {
            "text/plain": [
              "<matplotlib.legend.Legend at 0x7f6c6df48f50>"
            ]
          },
          "metadata": {},
          "execution_count": 11
        },
        {
          "output_type": "display_data",
          "data": {
            "text/plain": [
              "<Figure size 432x288 with 1 Axes>"
            ],
            "image/png": "[encoded data removed]"
          },
          "metadata": {
            "needs_background": "light"
          }
        }
      ]
    },
    {
      "cell_type": "code",
      "source": [
        "#Forecasting:\n",
        "\n",
        "n_future=9 # as we have quaterly data. 1 year has 4 quaters. 8 data points= 2 years but value 0 will be our existing data so i put 9\n",
        "forecast_period_dates= pd.date_range(list(train_dates)[-1],periods=n_future,freq='90d').tolist() #freq= 3 months x 30 days = 90\n",
        "\n",
        "forecast=model.predict(trainX[-n_future:])"
      ],
      "metadata": {
        "colab": {
          "base_uri": "https://localhost:8080/"
        },
        "id": "7NtjONSWupPU",
        "outputId": "4a271164-9079-4180-8d18-23f03bd01b1b"
      },
      "execution_count": null,
      "outputs": [
        {
          "output_type": "stream",
          "name": "stdout",
          "text": [
            "1/1 [==============================] - 1s 1s/step\n"
          ]
        }
      ]
    },
    {
      "cell_type": "code",
      "source": [
        "forecast_copies= np.repeat(forecast,df_for_training.shape[0],axis=-1)\n",
        "y_pred_future = scaler.inverse_transform(forecast_copies)[:,0]"
      ],
      "metadata": {
        "id": "qbw9RWikvwlk"
      },
      "execution_count": null,
      "outputs": []
    },
    {
      "cell_type": "code",
      "source": [
        "forecast_dates= []\n",
        "for time_i in forecast_period_dates:\n",
        "  forecast_dates.append(time_i.date())\n",
        "\n",
        "df_forecast = pd.DataFrame({'Date' :np.array(forecast_dates), 'Revenue':y_pred_future})\n",
        "df_forecast['Date']= pd.to_datetime(df_forecast['Date'])\n"
      ],
      "metadata": {
        "id": "7kxz4Zdvvyxi"
      },
      "execution_count": null,
      "outputs": []
    },
    {
      "cell_type": "code",
      "source": [
        "original = df[['Date','Revenue (in millions of $)']]\n",
        "original['Date']= pd.to_datetime(original['Date'])\n",
        "original = original.loc [original['Date']>= '2022-9-30']\n",
        "\n",
        "sns.lineplot(original['Date'], original['Revenue (in millions of $)'])\n",
        "sns.lineplot(df_forecast['Date'], df_forecast['Revenue'])\n",
        "\n",
        "sns.set(rc={'figure.figsize':(10,10)})"
      ],
      "metadata": {
        "colab": {
          "base_uri": "https://localhost:8080/",
          "height": 387
        },
        "id": "2uKJWNypv0VS",
        "outputId": "2f68ce30-b060-4d73-e9ec-14b953a6c635"
      },
      "execution_count": null,
      "outputs": [
        {
          "output_type": "stream",
          "name": "stderr",
          "text": [
            "/usr/local/lib/python3.7/dist-packages/seaborn/_decorators.py:43: FutureWarning: Pass the following variables as keyword args: x, y. From version 0.12, the only valid positional argument will be `data`, and passing other arguments without an explicit keyword will result in an error or misinterpretation.\n",
            "  FutureWarning\n"
          ]
        },
        {
          "output_type": "display_data",
          "data": {
            "text/plain": [
              "<Figure size 1440x720 with 1 Axes>"
            ],
            "image/png": "[encoded data removed]"
          },
          "metadata": {}
        }
      ]
    },
    {
      "cell_type": "code",
      "source": [
        "df_forecast #this shows the forecasted stock prices for the next year"
      ],
      "metadata": {
        "colab": {
          "base_uri": "https://localhost:8080/",
          "height": 331
        },
        "id": "zfjjk40J4EKV",
        "outputId": "57a26990-ad09-452f-ffe8-5679917a175f"
      },
      "execution_count": null,
      "outputs": [
        {
          "output_type": "execute_result",
          "data": {
            "text/plain": [
              "        Date       Revenue\n",
              "0 2022-06-30  52858.113281\n",
              "1 2022-09-28  55019.210938\n",
              "2 2022-12-27  57347.437500\n",
              "3 2023-03-27  59927.683594\n",
              "4 2023-06-25  62987.878906\n",
              "5 2023-09-23  66449.179688\n",
              "6 2023-12-22  70411.179688\n",
              "7 2024-03-21  74842.710938\n",
              "8 2024-06-19  79984.578125"
            ],
            "text/html": [
              "\n",
              "  <div id=\"df-4baff973-27d4-4e6b-8603-41808acdf2c5\">\n",
              "    <div class=\"colab-df-container\">\n",
              "      <div>\n",
              "<style scoped>\n",
              "    .dataframe tbody tr th:only-of-type {\n",
              "        vertical-align: middle;\n",
              "    }\n",
              "\n",
              "    .dataframe tbody tr th {\n",
              "        vertical-align: top;\n",
              "    }\n",
              "\n",
              "    .dataframe thead th {\n",
              "        text-align: right;\n",
              "    }\n",
              "</style>\n",
              "<table border=\"1\" class=\"dataframe\">\n",
              "  <thead>\n",
              "    <tr style=\"text-align: right;\">\n",
              "      <th></th>\n",
              "      <th>Date</th>\n",
              "      <th>Revenue</th>\n",
              "    </tr>\n",
              "  </thead>\n",
              "  <tbody>\n",
              "    <tr>\n",
              "      <th>0</th>\n",
              "      <td>2022-06-30</td>\n",
              "      <td>52858.113281</td>\n",
              "    </tr>\n",
              "    <tr>\n",
              "      <th>1</th>\n",
              "      <td>2022-09-28</td>\n",
              "      <td>55019.210938</td>\n",
              "    </tr>\n",
              "    <tr>\n",
              "      <th>2</th>\n",
              "      <td>2022-12-27</td>\n",
              "      <td>57347.437500</td>\n",
              "    </tr>\n",
              "    <tr>\n",
              "      <th>3</th>\n",
              "      <td>2023-03-27</td>\n",
              "      <td>59927.683594</td>\n",
              "    </tr>\n",
              "    <tr>\n",
              "      <th>4</th>\n",
              "      <td>2023-06-25</td>\n",
              "      <td>62987.878906</td>\n",
              "    </tr>\n",
              "    <tr>\n",
              "      <th>5</th>\n",
              "      <td>2023-09-23</td>\n",
              "      <td>66449.179688</td>\n",
              "    </tr>\n",
              "    <tr>\n",
              "      <th>6</th>\n",
              "      <td>2023-12-22</td>\n",
              "      <td>70411.179688</td>\n",
              "    </tr>\n",
              "    <tr>\n",
              "      <th>7</th>\n",
              "      <td>2024-03-21</td>\n",
              "      <td>74842.710938</td>\n",
              "    </tr>\n",
              "    <tr>\n",
              "      <th>8</th>\n",
              "      <td>2024-06-19</td>\n",
              "      <td>79984.578125</td>\n",
              "    </tr>\n",
              "  </tbody>\n",
              "</table>\n",
              "</div>\n",
              "      <button class=\"colab-df-convert\" onclick=\"convertToInteractive('df-4baff973-27d4-4e6b-8603-41808acdf2c5')\"\n",
              "              title=\"Convert this dataframe to an interactive table.\"\n",
              "              style=\"display:none;\">\n",
              "        \n",
              "  <svg xmlns=\"http://www.w3.org/2000/svg\" height=\"24px\"viewBox=\"0 0 24 24\"\n",
              "       width=\"24px\">\n",
              "    <path d=\"M0 0h24v24H0V0z\" fill=\"none\"/>\n",
              "    <path d=\"M18.56 5.44l.94 2.06.94-2.06 2.06-.94-2.06-.94-.94-2.06-.94 2.06-2.06.94zm-11 1L8.5 8.5l.94-2.06 2.06-.94-2.06-.94L8.5 2.5l-.94 2.06-2.06.94zm10 10l.94 2.06.94-2.06 2.06-.94-2.06-.94-.94-2.06-.94 2.06-2.06.94z\"/><path d=\"M17.41 7.96l-1.37-1.37c-.4-.4-.92-.59-1.43-.59-.52 0-1.04.2-1.43.59L10.3 9.45l-7.72 7.72c-.78.78-.78 2.05 0 2.83L4 21.41c.39.39.9.59 1.41.59.51 0 1.02-.2 1.41-.59l7.78-7.78 2.81-2.81c.8-.78.8-2.07 0-2.86zM5.41 20L4 18.59l7.72-7.72 1.47 1.35L5.41 20z\"/>\n",
              "  </svg>\n",
              "      </button>\n",
              "      \n",
              "  <style>\n",
              "    .colab-df-container {\n",
              "      display:flex;\n",
              "      flex-wrap:wrap;\n",
              "      gap: 12px;\n",
              "    }\n",
              "\n",
              "    .colab-df-convert {\n",
              "      background-color: #E8F0FE;\n",
              "      border: none;\n",
              "      border-radius: 50%;\n",
              "      cursor: pointer;\n",
              "      display: none;\n",
              "      fill: #1967D2;\n",
              "      height: 32px;\n",
              "      padding: 0 0 0 0;\n",
              "      width: 32px;\n",
              "    }\n",
              "\n",
              "    .colab-df-convert:hover {\n",
              "      background-color: #E2EBFA;\n",
              "      box-shadow: 0px 1px 2px rgba(60, 64, 67, 0.3), 0px 1px 3px 1px rgba(60, 64, 67, 0.15);\n",
              "      fill: #174EA6;\n",
              "    }\n",
              "\n",
              "    [theme=dark] .colab-df-convert {\n",
              "      background-color: #3B4455;\n",
              "      fill: #D2E3FC;\n",
              "    }\n",
              "\n",
              "    [theme=dark] .colab-df-convert:hover {\n",
              "      background-color: #434B5C;\n",
              "      box-shadow: 0px 1px 3px 1px rgba(0, 0, 0, 0.15);\n",
              "      filter: drop-shadow(0px 1px 2px rgba(0, 0, 0, 0.3));\n",
              "      fill: #FFFFFF;\n",
              "    }\n",
              "  </style>\n",
              "\n",
              "      <script>\n",
              "        const buttonEl =\n",
              "          document.querySelector('#df-4baff973-27d4-4e6b-8603-41808acdf2c5 button.colab-df-convert');\n",
              "        buttonEl.style.display =\n",
              "          google.colab.kernel.accessAllowed ? 'block' : 'none';\n",
              "\n",
              "        async function convertToInteractive(key) {\n",
              "          const element = document.querySelector('#df-4baff973-27d4-4e6b-8603-41808acdf2c5');\n",
              "          const dataTable =\n",
              "            await google.colab.kernel.invokeFunction('convertToInteractive',\n",
              "                                                     [key], {});\n",
              "          if (!dataTable) return;\n",
              "\n",
              "          const docLinkHtml = 'Like what you see? Visit the ' +\n",
              "            '<a target=\"_blank\" href=https://colab.research.google.com/notebooks/data_table.ipynb>data table notebook</a>'\n",
              "            + ' to learn more about interactive tables.';\n",
              "          element.innerHTML = '';\n",
              "          dataTable['output_type'] = 'display_data';\n",
              "          await google.colab.output.renderOutput(dataTable, element);\n",
              "          const docLink = document.createElement('div');\n",
              "          docLink.innerHTML = docLinkHtml;\n",
              "          element.appendChild(docLink);\n",
              "        }\n",
              "      </script>\n",
              "    </div>\n",
              "  </div>\n",
              "  "
            ]
          },
          "metadata": {},
          "execution_count": 20
        }
      ]
    },
    {
      "cell_type": "markdown",
      "source": [
        "# **As per my forecast, in 2 years Google's revenue will be $79,984 million.**"
      ],
      "metadata": {
        "id": "VgjCpsTz8PIK"
      }
    }
  ]
}